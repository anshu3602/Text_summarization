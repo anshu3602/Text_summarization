{
 "cells": [
  {
   "cell_type": "markdown",
   "metadata": {},
   "source": [
    "Extractive summarization "
   ]
  },
  {
   "cell_type": "code",
   "execution_count": 14,
   "metadata": {},
   "outputs": [
    {
     "name": "stdout",
     "output_type": "stream",
     "text": [
      "Requirement already satisfied: gensim==3.4.0 in c:\\users\\anshu\\anaconda3\\lib\\site-packages (3.4.0)\n",
      "Requirement already satisfied: six>=1.5.0 in c:\\users\\anshu\\anaconda3\\lib\\site-packages (from gensim==3.4.0) (1.15.0)\n",
      "Requirement already satisfied: smart-open>=1.2.1 in c:\\users\\anshu\\anaconda3\\lib\\site-packages (from gensim==3.4.0) (5.2.1)\n",
      "Requirement already satisfied: numpy>=1.11.3 in c:\\users\\anshu\\anaconda3\\lib\\site-packages (from gensim==3.4.0) (1.23.1)\n",
      "Requirement already satisfied: scipy>=0.18.1 in c:\\users\\anshu\\anaconda3\\lib\\site-packages (from gensim==3.4.0) (1.5.2)\n",
      "Note: you may need to restart the kernel to use updated packages.\n"
     ]
    },
    {
     "name": "stderr",
     "output_type": "stream",
     "text": [
      "\n",
      "[notice] A new release of pip available: 22.2.2 -> 22.3\n",
      "[notice] To update, run: python.exe -m pip install --upgrade pip\n"
     ]
    }
   ],
   "source": [
    "pip install gensim==3.4.0"
   ]
  },
  {
   "cell_type": "code",
   "execution_count": 15,
   "metadata": {},
   "outputs": [
    {
     "name": "stderr",
     "output_type": "stream",
     "text": [
      "[nltk_data] Downloading package wordnet to\n",
      "[nltk_data]     C:\\Users\\ANSHU\\AppData\\Roaming\\nltk_data...\n",
      "[nltk_data]   Package wordnet is already up-to-date!\n"
     ]
    },
    {
     "data": {
      "text/plain": [
       "True"
      ]
     },
     "execution_count": 15,
     "metadata": {},
     "output_type": "execute_result"
    },
    {
     "name": "stderr",
     "output_type": "stream",
     "text": [
      "[nltk_data] Downloading package punkt to\n",
      "[nltk_data]     C:\\Users\\ANSHU\\AppData\\Roaming\\nltk_data...\n",
      "[nltk_data]   Package punkt is already up-to-date!\n"
     ]
    },
    {
     "data": {
      "text/plain": [
       "True"
      ]
     },
     "execution_count": 15,
     "metadata": {},
     "output_type": "execute_result"
    },
    {
     "name": "stderr",
     "output_type": "stream",
     "text": [
      "[nltk_data] Downloading package stopwords to\n",
      "[nltk_data]     C:\\Users\\ANSHU\\AppData\\Roaming\\nltk_data...\n",
      "[nltk_data]   Package stopwords is already up-to-date!\n"
     ]
    },
    {
     "data": {
      "text/plain": [
       "True"
      ]
     },
     "execution_count": 15,
     "metadata": {},
     "output_type": "execute_result"
    }
   ],
   "source": [
    "\n",
    "\n",
    "\n",
    "import bs4 as bs # BeautifulSoup \n",
    "import urllib.request\n",
    "import re\n",
    "import nltk\n",
    "import collections\n",
    "import numpy as np\n",
    "import re\n",
    "import pandas as pd\n",
    "from nltk.tokenize import RegexpTokenizer\n",
    "from nltk.tokenize import word_tokenize\n",
    "from nltk.corpus import stopwords\n",
    "from nltk.stem import PorterStemmer, WordNetLemmatizer \n",
    "from nltk.tokenize import sent_tokenize \n",
    "\n",
    "from gensim.summarization.summarizer import summarize\n",
    "nltk.download('wordnet')\n",
    "nltk.download('punkt')\n",
    "nltk.download('stopwords')\n",
    "\n",
    "from IPython.core.interactiveshell import InteractiveShell\n",
    "InteractiveShell.ast_node_interactivity = \"all\""
   ]
  },
  {
   "cell_type": "code",
   "execution_count": 16,
   "metadata": {},
   "outputs": [
    {
     "name": "stdout",
     "output_type": "stream",
     "text": [
      "of the over six million articles in the english wikipedia there are some articles that wikipedians have identified as being somewhat unusual. these articles are verifiable, valuable contributions to the encyclopedia, but are a bit odd, whimsical, or something one would not expect to find in encyclopædia britannica. we should take special care to meet the highest standards of an encyclopedia with these articles lest they make wikipedia appear idiosyncratic. if you wish to add an article to this list, the article in question should preferably meet one or more of these criteria:\n",
      "this definition is not precise or absolute; some articles could still be considered unusual even if they do not fit these guidelines.\n",
      "each entry on this list should be an article on its own (not merely a section in a less unusual article) and of decent quality, and in large meeting wikipedia's manual of style. for unusual contributions that are of greater levity, see wikipedia:silly things.\n",
      "in this list, a star () indicates a featured article. a plus () indicates a good article.\n",
      "see  nominative determinism for the idea that people gravitate toward careers that fit their names, e.g. urologists named splat and weedon.\n",
      "see also list of internet memes.\n",
      "wikipedia is not afraid to tackle the tough questions:\n",
      "wikipedia:featured pictures contains some unusual images.\n",
      "lawn mower racing\n",
      "train wreck at montparnasse\n",
      "the agassiz statue, stanford university, california. april 1906\n",
      "grenville diptych\n",
      "medieval trepanatio\n"
     ]
    }
   ],
   "source": [
    "# Web Scraping \n",
    "def _scrape_webpage(url): \n",
    " \n",
    "  scraped_textdata = urllib.request.urlopen(url) \n",
    "  textdata = scraped_textdata.read()\n",
    "  parsed_textdata = bs.BeautifulSoup(textdata,'lxml') \n",
    "  paragraphs = parsed_textdata.find_all('p') \n",
    "  formated_text = \"\"\n",
    "  \n",
    "  for para in paragraphs:\n",
    "    formated_text += para.text\n",
    "  return formated_text\n",
    "\n",
    "\n",
    "random_text = _scrape_webpage('https://en.wikipedia.org/wiki/Wikipedia:Unusual_articles#Physics').lower()\n",
    "print(random_text[:1500])"
   ]
  },
  {
   "cell_type": "markdown",
   "metadata": {},
   "source": [
    "**Process the data **"
   ]
  },
  {
   "cell_type": "code",
   "execution_count": 17,
   "metadata": {},
   "outputs": [],
   "source": [
    "#Tokenizing , removing stop words , punctuation etc \n"
   ]
  },
  {
   "cell_type": "code",
   "execution_count": 21,
   "metadata": {},
   "outputs": [],
   "source": [
    "# Function to sort and group together variant forms of the same word . \n",
    "# Stemmer - process of reducing a word to its word stem that adds to suffixes and prefixes or to the roots of words\n",
    "def process(stopwords_tokens):\n",
    "  processed = []\n",
    "  stemmer = PorterStemmer()\n",
    "  lemmatizer = WordNetLemmatizer()\n",
    "  for x,test_word in enumerate(stopwords_tokens):\n",
    "    word_stem = stemmer.stem(test_word)\n",
    "    word_lemmatise = lemmatizer.lemmatize(word_stem)\n",
    "    processed.append(word_lemmatise)\n",
    "  return processed\n",
    "# Here process is basically lemmatizing - grouping together , so that it can be analysed as single item "
   ]
  },
  {
   "cell_type": "code",
   "execution_count": 22,
   "metadata": {},
   "outputs": [],
   "source": [
    "#Text proceccing function\n",
    "def process_text(random_text):\n",
    "  tokenizer = RegexpTokenizer(r'[^\\d\\W]+')\n",
    "  regexp_tokens = tokenizer.tokenize(random_text.lower())\n",
    "  stopwords_tokens = [token for token in regexp_tokens if token not in stopwords.words('english')]\n",
    "  return stopwords_tokens"
   ]
  },
  {
   "cell_type": "code",
   "execution_count": 23,
   "metadata": {},
   "outputs": [],
   "source": [
    "#Call functions\n",
    "processed = process_text(random_text)\n",
    "processed = process(processed)\n"
   ]
  },
  {
   "cell_type": "code",
   "execution_count": 24,
   "metadata": {},
   "outputs": [
    {
     "name": "stdout",
     "output_type": "stream",
     "text": [
      "<FreqDist with 147 samples and 184 outcomes>\n",
      "[('articl', 11), ('wikipedia', 6), ('unusu', 5), ('list', 4), ('one', 3), ('meet', 3), ('see', 3), ('million', 2), ('contribut', 2), ('encyclopedia', 2), ('question', 2), ('fit', 2), ('indic', 2), ('featur', 2), ('name', 2)]\n"
     ]
    },
    {
     "data": {
      "image/png": "[encoded data removed]",
      "text/plain": [
       "<Figure size 432x288 with 1 Axes>"
      ]
     },
     "metadata": {
      "needs_background": "light"
     },
     "output_type": "display_data"
    },
    {
     "data": {
      "text/plain": [
       "<AxesSubplot:xlabel='Samples', ylabel='Counts'>"
      ]
     },
     "execution_count": 24,
     "metadata": {},
     "output_type": "execute_result"
    }
   ],
   "source": [
    "#List and plot the top 15 words\n",
    "freq_dist = nltk.FreqDist(processed) \n",
    "print(freq_dist)\n",
    "k = 15\n",
    "print(freq_dist.most_common(k)) \n",
    "freq_dist.plot(k)"
   ]
  },
  {
   "cell_type": "markdown",
   "metadata": {},
   "source": [
    "# Weighted Frequency "
   ]
  },
  {
   "cell_type": "code",
   "execution_count": null,
   "metadata": {},
   "outputs": [],
   "source": [
    "#Sometimes we would like a word to have more weight based on its semantics. \n",
    "#In order to find the weighted mean, we need to multiply the count of words by its weight and add up the results."
   ]
  },
  {
   "cell_type": "code",
   "execution_count": 25,
   "metadata": {},
   "outputs": [],
   "source": [
    "DF_Weighted_frequency = pd.DataFrame(columns=[\"WORD\", \"W_FREQUENCY\"])\n",
    "\n",
    "for word, frequency in freq_dist.most_common(k):\n",
    "  DF_Weighted_frequency = DF_Weighted_frequency.append({'WORD': word, 'W_FREQUENCY': frequency}, ignore_index=True)"
   ]
  },
  {
   "cell_type": "code",
   "execution_count": 26,
   "metadata": {},
   "outputs": [
    {
     "data": {
      "text/html": [
       "<div>\n",
       "<style scoped>\n",
       "    .dataframe tbody tr th:only-of-type {\n",
       "        vertical-align: middle;\n",
       "    }\n",
       "\n",
       "    .dataframe tbody tr th {\n",
       "        vertical-align: top;\n",
       "    }\n",
       "\n",
       "    .dataframe thead th {\n",
       "        text-align: right;\n",
       "    }\n",
       "</style>\n",
       "<table border=\"1\" class=\"dataframe\">\n",
       "  <thead>\n",
       "    <tr style=\"text-align: right;\">\n",
       "      <th></th>\n",
       "      <th>WORD</th>\n",
       "      <th>W_FREQUENCY</th>\n",
       "    </tr>\n",
       "  </thead>\n",
       "  <tbody>\n",
       "    <tr>\n",
       "      <th>0</th>\n",
       "      <td>articl</td>\n",
       "      <td>11</td>\n",
       "    </tr>\n",
       "    <tr>\n",
       "      <th>1</th>\n",
       "      <td>wikipedia</td>\n",
       "      <td>6</td>\n",
       "    </tr>\n",
       "    <tr>\n",
       "      <th>2</th>\n",
       "      <td>unusu</td>\n",
       "      <td>5</td>\n",
       "    </tr>\n",
       "    <tr>\n",
       "      <th>3</th>\n",
       "      <td>list</td>\n",
       "      <td>4</td>\n",
       "    </tr>\n",
       "    <tr>\n",
       "      <th>4</th>\n",
       "      <td>one</td>\n",
       "      <td>3</td>\n",
       "    </tr>\n",
       "    <tr>\n",
       "      <th>5</th>\n",
       "      <td>meet</td>\n",
       "      <td>3</td>\n",
       "    </tr>\n",
       "    <tr>\n",
       "      <th>6</th>\n",
       "      <td>see</td>\n",
       "      <td>3</td>\n",
       "    </tr>\n",
       "    <tr>\n",
       "      <th>7</th>\n",
       "      <td>million</td>\n",
       "      <td>2</td>\n",
       "    </tr>\n",
       "    <tr>\n",
       "      <th>8</th>\n",
       "      <td>contribut</td>\n",
       "      <td>2</td>\n",
       "    </tr>\n",
       "    <tr>\n",
       "      <th>9</th>\n",
       "      <td>encyclopedia</td>\n",
       "      <td>2</td>\n",
       "    </tr>\n",
       "    <tr>\n",
       "      <th>10</th>\n",
       "      <td>question</td>\n",
       "      <td>2</td>\n",
       "    </tr>\n",
       "    <tr>\n",
       "      <th>11</th>\n",
       "      <td>fit</td>\n",
       "      <td>2</td>\n",
       "    </tr>\n",
       "    <tr>\n",
       "      <th>12</th>\n",
       "      <td>indic</td>\n",
       "      <td>2</td>\n",
       "    </tr>\n",
       "    <tr>\n",
       "      <th>13</th>\n",
       "      <td>featur</td>\n",
       "      <td>2</td>\n",
       "    </tr>\n",
       "    <tr>\n",
       "      <th>14</th>\n",
       "      <td>name</td>\n",
       "      <td>2</td>\n",
       "    </tr>\n",
       "  </tbody>\n",
       "</table>\n",
       "</div>"
      ],
      "text/plain": [
       "            WORD W_FREQUENCY\n",
       "0         articl          11\n",
       "1      wikipedia           6\n",
       "2          unusu           5\n",
       "3           list           4\n",
       "4            one           3\n",
       "5           meet           3\n",
       "6            see           3\n",
       "7        million           2\n",
       "8      contribut           2\n",
       "9   encyclopedia           2\n",
       "10      question           2\n",
       "11           fit           2\n",
       "12         indic           2\n",
       "13        featur           2\n",
       "14          name           2"
      ]
     },
     "execution_count": 26,
     "metadata": {},
     "output_type": "execute_result"
    }
   ],
   "source": [
    "DF_Weighted_frequency"
   ]
  },
  {
   "cell_type": "code",
   "execution_count": 27,
   "metadata": {},
   "outputs": [
    {
     "name": "stdout",
     "output_type": "stream",
     "text": [
      "# of sentences:  15\n"
     ]
    },
    {
     "data": {
      "text/plain": [
       "[['six',\n",
       "  'million',\n",
       "  'articl',\n",
       "  'english',\n",
       "  'wikipedia',\n",
       "  'articl',\n",
       "  'wikipedian',\n",
       "  'identifi',\n",
       "  'somewhat',\n",
       "  'unusu'],\n",
       " ['articl',\n",
       "  'verifi',\n",
       "  'valuabl',\n",
       "  'contribut',\n",
       "  'encyclopedia',\n",
       "  'bit',\n",
       "  'odd',\n",
       "  'whimsic',\n",
       "  'someth',\n",
       "  'one',\n",
       "  'would',\n",
       "  'expect',\n",
       "  'find',\n",
       "  'encyclopædia',\n",
       "  'britannica'],\n",
       " ['take',\n",
       "  'special',\n",
       "  'care',\n",
       "  'meet',\n",
       "  'highest',\n",
       "  'standard',\n",
       "  'encyclopedia',\n",
       "  'articl',\n",
       "  'lest',\n",
       "  'make',\n",
       "  'wikipedia',\n",
       "  'appear',\n",
       "  'idiosyncrat'],\n",
       " ['wish',\n",
       "  'add',\n",
       "  'articl',\n",
       "  'list',\n",
       "  'articl',\n",
       "  'question',\n",
       "  'prefer',\n",
       "  'meet',\n",
       "  'one',\n",
       "  'criterion',\n",
       "  'definit',\n",
       "  'precis',\n",
       "  'absolut',\n",
       "  'articl',\n",
       "  'could',\n",
       "  'still',\n",
       "  'consid',\n",
       "  'unusu',\n",
       "  'even',\n",
       "  'fit',\n",
       "  'guidelin'],\n",
       " ['entri',\n",
       "  'list',\n",
       "  'articl',\n",
       "  'mere',\n",
       "  'section',\n",
       "  'le',\n",
       "  'unusu',\n",
       "  'articl',\n",
       "  'decent',\n",
       "  'qualiti',\n",
       "  'larg',\n",
       "  'meet',\n",
       "  'wikipedia',\n",
       "  'manual',\n",
       "  'style'],\n",
       " ['unusu',\n",
       "  'contribut',\n",
       "  'greater',\n",
       "  'leviti',\n",
       "  'see',\n",
       "  'wikipedia',\n",
       "  'silli',\n",
       "  'thing'],\n",
       " ['list', 'star', 'indic', 'featur', 'articl'],\n",
       " ['plu', 'indic', 'good', 'articl'],\n",
       " ['see',\n",
       "  'nomin',\n",
       "  'determin',\n",
       "  'idea',\n",
       "  'peopl',\n",
       "  'gravit',\n",
       "  'toward',\n",
       "  'career',\n",
       "  'fit',\n",
       "  'name',\n",
       "  'e',\n",
       "  'g'],\n",
       " ['urologist', 'name', 'splat', 'weedon'],\n",
       " ['see', 'also', 'list', 'internet', 'meme'],\n",
       " ['wikipedia',\n",
       "  'afraid',\n",
       "  'tackl',\n",
       "  'tough',\n",
       "  'question',\n",
       "  'wikipedia',\n",
       "  'featur',\n",
       "  'pictur',\n",
       "  'contain',\n",
       "  'unusu',\n",
       "  'imag'],\n",
       " ['lawn',\n",
       "  'mower',\n",
       "  'race',\n",
       "  'train',\n",
       "  'wreck',\n",
       "  'montparnass',\n",
       "  'agassiz',\n",
       "  'statu',\n",
       "  'stanford',\n",
       "  'univers',\n",
       "  'california'],\n",
       " ['april',\n",
       "  'grenvil',\n",
       "  'diptych',\n",
       "  'mediev',\n",
       "  'trepan',\n",
       "  'polydactyli',\n",
       "  'isometr',\n",
       "  'project',\n",
       "  'flaw',\n",
       "  'collaps',\n",
       "  'tacoma',\n",
       "  'narrow',\n",
       "  'bridg',\n",
       "  'defec',\n",
       "  'seagul',\n",
       "  'indec',\n",
       "  'aerial',\n",
       "  'turn',\n",
       "  'hous',\n",
       "  'tank',\n",
       "  'tread',\n",
       "  'airplan',\n",
       "  'salvador',\n",
       "  'dalí',\n",
       "  'mainten',\n",
       "  'mount',\n",
       "  'rushmor',\n",
       "  'one',\n",
       "  'million',\n",
       "  'color',\n",
       "  'keep',\n",
       "  'hand'],\n",
       " ['like',\n",
       "  'fli',\n",
       "  'elabor',\n",
       "  'flat',\n",
       "  'earth',\n",
       "  'map',\n",
       "  'drawn',\n",
       "  'veget',\n",
       "  'lamb',\n",
       "  'tartari',\n",
       "  'carrot',\n",
       "  'mani',\n",
       "  'color',\n",
       "  'profession',\n",
       "  'regurgit',\n",
       "  'hadji',\n",
       "  'ali',\n",
       "  'work']]"
      ]
     },
     "execution_count": 27,
     "metadata": {},
     "output_type": "execute_result"
    }
   ],
   "source": [
    "#Sentence Tokenizing  - process of splitting text into individual sentences\n",
    "def sent_tokenize_processing(random_text):\n",
    "  processed_sent_list = []\n",
    "  sent_tokens = sent_tokenize(random_text)\n",
    "  for sentence in sent_tokens:\n",
    "    processed_sent = process_text(sentence)\n",
    "    processed_sent = process(processed_sent)\n",
    "    processed_sent_list.append(processed_sent)\n",
    "  return processed_sent_list\n",
    "\n",
    "processed_sent_list = sent_tokenize_processing(random_text)\n",
    "print(\"# of sentences: \", len(processed_sent_list)) \n",
    "processed_sent_list[:15]"
   ]
  },
  {
   "cell_type": "code",
   "execution_count": 37,
   "metadata": {},
   "outputs": [],
   "source": [
    "#Calculating doc_id\n",
    "\n",
    "# We need to iterate through all the words in all the document(sentences) \n",
    "# store the document id’s for each word\n",
    "#  create a set if the word doesn’t have a set yet else add to the set. \n",
    "# condition is checked by the try block\n",
    "# processed is the body of the document\n",
    "\n",
    "doc_id = {}\n",
    "for i in range(len(processed_sent_list)):\n",
    "    tokens = processed_sent_list[i]\n",
    "    for w in tokens:\n",
    "        try:\n",
    "            doc_id[w].add(i)\n",
    "        except:\n",
    "            doc_id[w] = {i}\n",
    " "
   ]
  },
  {
   "cell_type": "code",
   "execution_count": 38,
   "metadata": {},
   "outputs": [
    {
     "data": {
      "text/plain": [
       "{'six': {0},\n",
       " 'million': {0, 13},\n",
       " 'articl': {0, 1, 2, 3, 4, 6, 7},\n",
       " 'english': {0},\n",
       " 'wikipedia': {0, 2, 4, 5, 11},\n",
       " 'wikipedian': {0},\n",
       " 'identifi': {0},\n",
       " 'somewhat': {0},\n",
       " 'unusu': {0, 3, 4, 5, 11},\n",
       " 'verifi': {1},\n",
       " 'valuabl': {1},\n",
       " 'contribut': {1, 5},\n",
       " 'encyclopedia': {1, 2},\n",
       " 'bit': {1},\n",
       " 'odd': {1},\n",
       " 'whimsic': {1},\n",
       " 'someth': {1},\n",
       " 'one': {1, 3, 13},\n",
       " 'would': {1},\n",
       " 'expect': {1},\n",
       " 'find': {1},\n",
       " 'encyclopædia': {1},\n",
       " 'britannica': {1},\n",
       " 'take': {2},\n",
       " 'special': {2},\n",
       " 'care': {2},\n",
       " 'meet': {2, 3, 4},\n",
       " 'highest': {2},\n",
       " 'standard': {2},\n",
       " 'lest': {2},\n",
       " 'make': {2},\n",
       " 'appear': {2},\n",
       " 'idiosyncrat': {2},\n",
       " 'wish': {3},\n",
       " 'add': {3},\n",
       " 'list': {3, 4, 6, 10},\n",
       " 'question': {3, 11},\n",
       " 'prefer': {3},\n",
       " 'criterion': {3},\n",
       " 'definit': {3},\n",
       " 'precis': {3},\n",
       " 'absolut': {3},\n",
       " 'could': {3},\n",
       " 'still': {3},\n",
       " 'consid': {3},\n",
       " 'even': {3},\n",
       " 'fit': {3, 8},\n",
       " 'guidelin': {3},\n",
       " 'entri': {4},\n",
       " 'mere': {4},\n",
       " 'section': {4},\n",
       " 'le': {4},\n",
       " 'decent': {4},\n",
       " 'qualiti': {4},\n",
       " 'larg': {4},\n",
       " 'manual': {4},\n",
       " 'style': {4},\n",
       " 'greater': {5},\n",
       " 'leviti': {5},\n",
       " 'see': {5, 8, 10},\n",
       " 'silli': {5},\n",
       " 'thing': {5},\n",
       " 'star': {6},\n",
       " 'indic': {6, 7},\n",
       " 'featur': {6, 11},\n",
       " 'plu': {7},\n",
       " 'good': {7},\n",
       " 'nomin': {8},\n",
       " 'determin': {8},\n",
       " 'idea': {8},\n",
       " 'peopl': {8},\n",
       " 'gravit': {8},\n",
       " 'toward': {8},\n",
       " 'career': {8},\n",
       " 'name': {8, 9},\n",
       " 'e': {8},\n",
       " 'g': {8},\n",
       " 'urologist': {9},\n",
       " 'splat': {9},\n",
       " 'weedon': {9},\n",
       " 'also': {10},\n",
       " 'internet': {10},\n",
       " 'meme': {10},\n",
       " 'afraid': {11},\n",
       " 'tackl': {11},\n",
       " 'tough': {11},\n",
       " 'pictur': {11},\n",
       " 'contain': {11},\n",
       " 'imag': {11},\n",
       " 'lawn': {12},\n",
       " 'mower': {12},\n",
       " 'race': {12},\n",
       " 'train': {12},\n",
       " 'wreck': {12},\n",
       " 'montparnass': {12},\n",
       " 'agassiz': {12},\n",
       " 'statu': {12},\n",
       " 'stanford': {12},\n",
       " 'univers': {12},\n",
       " 'california': {12},\n",
       " 'april': {13},\n",
       " 'grenvil': {13},\n",
       " 'diptych': {13},\n",
       " 'mediev': {13},\n",
       " 'trepan': {13},\n",
       " 'polydactyli': {13},\n",
       " 'isometr': {13},\n",
       " 'project': {13},\n",
       " 'flaw': {13},\n",
       " 'collaps': {13},\n",
       " 'tacoma': {13},\n",
       " 'narrow': {13},\n",
       " 'bridg': {13},\n",
       " 'defec': {13},\n",
       " 'seagul': {13},\n",
       " 'indec': {13},\n",
       " 'aerial': {13},\n",
       " 'turn': {13},\n",
       " 'hous': {13},\n",
       " 'tank': {13},\n",
       " 'tread': {13},\n",
       " 'airplan': {13},\n",
       " 'salvador': {13},\n",
       " 'dalí': {13},\n",
       " 'mainten': {13},\n",
       " 'mount': {13},\n",
       " 'rushmor': {13},\n",
       " 'color': {13, 14},\n",
       " 'keep': {13},\n",
       " 'hand': {13},\n",
       " 'like': {14},\n",
       " 'fli': {14},\n",
       " 'elabor': {14},\n",
       " 'flat': {14},\n",
       " 'earth': {14},\n",
       " 'map': {14},\n",
       " 'drawn': {14},\n",
       " 'veget': {14},\n",
       " 'lamb': {14},\n",
       " 'tartari': {14},\n",
       " 'carrot': {14},\n",
       " 'mani': {14},\n",
       " 'profession': {14},\n",
       " 'regurgit': {14},\n",
       " 'hadji': {14},\n",
       " 'ali': {14},\n",
       " 'work': {14}}"
      ]
     },
     "execution_count": 38,
     "metadata": {},
     "output_type": "execute_result"
    }
   ],
   "source": [
    "doc_id"
   ]
  },
  {
   "cell_type": "code",
   "execution_count": 30,
   "metadata": {},
   "outputs": [],
   "source": [
    "#This is basically then count of unique words in the document.\n",
    "\n"
   ]
  },
  {
   "cell_type": "code",
   "execution_count": 39,
   "metadata": {},
   "outputs": [
    {
     "data": {
      "text/plain": [
       "147"
      ]
     },
     "execution_count": 39,
     "metadata": {},
     "output_type": "execute_result"
    }
   ],
   "source": [
    "len(doc_id) \n",
    "#will give the unique words"
   ]
  },
  {
   "cell_type": "code",
   "execution_count": 40,
   "metadata": {},
   "outputs": [
    {
     "data": {
      "text/plain": [
       "{'six': 1,\n",
       " 'million': 2,\n",
       " 'articl': 7,\n",
       " 'english': 1,\n",
       " 'wikipedia': 5,\n",
       " 'wikipedian': 1,\n",
       " 'identifi': 1,\n",
       " 'somewhat': 1,\n",
       " 'unusu': 5,\n",
       " 'verifi': 1,\n",
       " 'valuabl': 1,\n",
       " 'contribut': 2,\n",
       " 'encyclopedia': 2,\n",
       " 'bit': 1,\n",
       " 'odd': 1,\n",
       " 'whimsic': 1,\n",
       " 'someth': 1,\n",
       " 'one': 3,\n",
       " 'would': 1,\n",
       " 'expect': 1,\n",
       " 'find': 1,\n",
       " 'encyclopædia': 1,\n",
       " 'britannica': 1,\n",
       " 'take': 1,\n",
       " 'special': 1,\n",
       " 'care': 1,\n",
       " 'meet': 3,\n",
       " 'highest': 1,\n",
       " 'standard': 1,\n",
       " 'lest': 1,\n",
       " 'make': 1,\n",
       " 'appear': 1,\n",
       " 'idiosyncrat': 1,\n",
       " 'wish': 1,\n",
       " 'add': 1,\n",
       " 'list': 4,\n",
       " 'question': 2,\n",
       " 'prefer': 1,\n",
       " 'criterion': 1,\n",
       " 'definit': 1,\n",
       " 'precis': 1,\n",
       " 'absolut': 1,\n",
       " 'could': 1,\n",
       " 'still': 1,\n",
       " 'consid': 1,\n",
       " 'even': 1,\n",
       " 'fit': 2,\n",
       " 'guidelin': 1,\n",
       " 'entri': 1,\n",
       " 'mere': 1,\n",
       " 'section': 1,\n",
       " 'le': 1,\n",
       " 'decent': 1,\n",
       " 'qualiti': 1,\n",
       " 'larg': 1,\n",
       " 'manual': 1,\n",
       " 'style': 1,\n",
       " 'greater': 1,\n",
       " 'leviti': 1,\n",
       " 'see': 3,\n",
       " 'silli': 1,\n",
       " 'thing': 1,\n",
       " 'star': 1,\n",
       " 'indic': 2,\n",
       " 'featur': 2,\n",
       " 'plu': 1,\n",
       " 'good': 1,\n",
       " 'nomin': 1,\n",
       " 'determin': 1,\n",
       " 'idea': 1,\n",
       " 'peopl': 1,\n",
       " 'gravit': 1,\n",
       " 'toward': 1,\n",
       " 'career': 1,\n",
       " 'name': 2,\n",
       " 'e': 1,\n",
       " 'g': 1,\n",
       " 'urologist': 1,\n",
       " 'splat': 1,\n",
       " 'weedon': 1,\n",
       " 'also': 1,\n",
       " 'internet': 1,\n",
       " 'meme': 1,\n",
       " 'afraid': 1,\n",
       " 'tackl': 1,\n",
       " 'tough': 1,\n",
       " 'pictur': 1,\n",
       " 'contain': 1,\n",
       " 'imag': 1,\n",
       " 'lawn': 1,\n",
       " 'mower': 1,\n",
       " 'race': 1,\n",
       " 'train': 1,\n",
       " 'wreck': 1,\n",
       " 'montparnass': 1,\n",
       " 'agassiz': 1,\n",
       " 'statu': 1,\n",
       " 'stanford': 1,\n",
       " 'univers': 1,\n",
       " 'california': 1,\n",
       " 'april': 1,\n",
       " 'grenvil': 1,\n",
       " 'diptych': 1,\n",
       " 'mediev': 1,\n",
       " 'trepan': 1,\n",
       " 'polydactyli': 1,\n",
       " 'isometr': 1,\n",
       " 'project': 1,\n",
       " 'flaw': 1,\n",
       " 'collaps': 1,\n",
       " 'tacoma': 1,\n",
       " 'narrow': 1,\n",
       " 'bridg': 1,\n",
       " 'defec': 1,\n",
       " 'seagul': 1,\n",
       " 'indec': 1,\n",
       " 'aerial': 1,\n",
       " 'turn': 1,\n",
       " 'hous': 1,\n",
       " 'tank': 1,\n",
       " 'tread': 1,\n",
       " 'airplan': 1,\n",
       " 'salvador': 1,\n",
       " 'dalí': 1,\n",
       " 'mainten': 1,\n",
       " 'mount': 1,\n",
       " 'rushmor': 1,\n",
       " 'color': 2,\n",
       " 'keep': 1,\n",
       " 'hand': 1,\n",
       " 'like': 1,\n",
       " 'fli': 1,\n",
       " 'elabor': 1,\n",
       " 'flat': 1,\n",
       " 'earth': 1,\n",
       " 'map': 1,\n",
       " 'drawn': 1,\n",
       " 'veget': 1,\n",
       " 'lamb': 1,\n",
       " 'tartari': 1,\n",
       " 'carrot': 1,\n",
       " 'mani': 1,\n",
       " 'profession': 1,\n",
       " 'regurgit': 1,\n",
       " 'hadji': 1,\n",
       " 'ali': 1,\n",
       " 'work': 1}"
      ]
     },
     "execution_count": 40,
     "metadata": {},
     "output_type": "execute_result"
    }
   ],
   "source": [
    "# doc_id will have the word as the key and list of document id’s as the value\n",
    "# for doc_id we don’t actually need the list of docs, we just need the count. \n",
    "# so we are going to replace the list with its count.\n",
    "for i in doc_id:\n",
    "  doc_id[i] = len(doc_id[i])\n",
    "doc_id"
   ]
  },
  {
   "cell_type": "code",
   "execution_count": 41,
   "metadata": {},
   "outputs": [
    {
     "name": "stdout",
     "output_type": "stream",
     "text": [
      "['six', 'million', 'articl', 'english', 'wikipedia', 'wikipedian', 'identifi', 'somewhat', 'unusu', 'verifi', 'valuabl', 'contribut', 'encyclopedia', 'bit', 'odd', 'whimsic', 'someth', 'one', 'would', 'expect', 'find', 'encyclopædia', 'britannica', 'take', 'special', 'care', 'meet', 'highest', 'standard', 'lest', 'make', 'appear', 'idiosyncrat', 'wish', 'add', 'list', 'question', 'prefer', 'criterion', 'definit', 'precis', 'absolut', 'could', 'still', 'consid', 'even', 'fit', 'guidelin', 'entri', 'mere', 'section', 'le', 'decent', 'qualiti', 'larg', 'manual', 'style', 'greater', 'leviti', 'see', 'silli', 'thing', 'star', 'indic', 'featur', 'plu', 'good', 'nomin', 'determin', 'idea', 'peopl', 'gravit', 'toward', 'career', 'name', 'e', 'g', 'urologist', 'splat', 'weedon', 'also', 'internet', 'meme', 'afraid', 'tackl', 'tough', 'pictur', 'contain', 'imag', 'lawn', 'mower', 'race', 'train', 'wreck', 'montparnass', 'agassiz', 'statu', 'stanford', 'univers', 'california', 'april', 'grenvil', 'diptych', 'mediev', 'trepan', 'polydactyli', 'isometr', 'project', 'flaw', 'collaps', 'tacoma', 'narrow', 'bridg', 'defec', 'seagul', 'indec', 'aerial', 'turn', 'hous', 'tank', 'tread', 'airplan', 'salvador', 'dalí', 'mainten', 'mount', 'rushmor', 'color', 'keep', 'hand', 'like', 'fli', 'elabor', 'flat', 'earth', 'map', 'drawn', 'veget', 'lamb', 'tartari', 'carrot', 'mani', 'profession', 'regurgit', 'hadji', 'ali', 'work']\n"
     ]
    }
   ],
   "source": [
    "# Unique words\n",
    "total_unique = [x for x in doc_id]\n",
    "print(total_unique)"
   ]
  },
  {
   "cell_type": "code",
   "execution_count": 34,
   "metadata": {},
   "outputs": [],
   "source": [
    "# tf_idf - frequency–inverse document frequency\n",
    "#  numerical statistic that is intended to reflect how important a word is to a document in a collection or corpus\n",
    "\n",
    "#Calculating td_idf\n",
    "\n"
   ]
  },
  {
   "cell_type": "code",
   "execution_count": 35,
   "metadata": {},
   "outputs": [
    {
     "data": {
      "text/plain": [
       "15"
      ]
     },
     "execution_count": 35,
     "metadata": {},
     "output_type": "execute_result"
    }
   ],
   "source": [
    "#Number of sentences (documents)\n",
    "len(processed_sent_list)"
   ]
  },
  {
   "cell_type": "code",
   "execution_count": 42,
   "metadata": {},
   "outputs": [
    {
     "data": {
      "text/plain": [
       "10"
      ]
     },
     "execution_count": 42,
     "metadata": {},
     "output_type": "execute_result"
    },
    {
     "data": {
      "text/plain": [
       "15"
      ]
     },
     "execution_count": 42,
     "metadata": {},
     "output_type": "execute_result"
    },
    {
     "data": {
      "text/plain": [
       "13"
      ]
     },
     "execution_count": 42,
     "metadata": {},
     "output_type": "execute_result"
    },
    {
     "data": {
      "text/plain": [
       "21"
      ]
     },
     "execution_count": 42,
     "metadata": {},
     "output_type": "execute_result"
    },
    {
     "data": {
      "text/plain": [
       "15"
      ]
     },
     "execution_count": 42,
     "metadata": {},
     "output_type": "execute_result"
    },
    {
     "data": {
      "text/plain": [
       "8"
      ]
     },
     "execution_count": 42,
     "metadata": {},
     "output_type": "execute_result"
    },
    {
     "data": {
      "text/plain": [
       "5"
      ]
     },
     "execution_count": 42,
     "metadata": {},
     "output_type": "execute_result"
    },
    {
     "data": {
      "text/plain": [
       "4"
      ]
     },
     "execution_count": 42,
     "metadata": {},
     "output_type": "execute_result"
    },
    {
     "data": {
      "text/plain": [
       "12"
      ]
     },
     "execution_count": 42,
     "metadata": {},
     "output_type": "execute_result"
    },
    {
     "data": {
      "text/plain": [
       "4"
      ]
     },
     "execution_count": 42,
     "metadata": {},
     "output_type": "execute_result"
    },
    {
     "data": {
      "text/plain": [
       "5"
      ]
     },
     "execution_count": 42,
     "metadata": {},
     "output_type": "execute_result"
    },
    {
     "data": {
      "text/plain": [
       "11"
      ]
     },
     "execution_count": 42,
     "metadata": {},
     "output_type": "execute_result"
    },
    {
     "data": {
      "text/plain": [
       "11"
      ]
     },
     "execution_count": 42,
     "metadata": {},
     "output_type": "execute_result"
    },
    {
     "data": {
      "text/plain": [
       "32"
      ]
     },
     "execution_count": 42,
     "metadata": {},
     "output_type": "execute_result"
    },
    {
     "data": {
      "text/plain": [
       "18"
      ]
     },
     "execution_count": 42,
     "metadata": {},
     "output_type": "execute_result"
    }
   ],
   "source": [
    "#Calculating tf_idf\n",
    "#math formula\n",
    "#tf(t,d) = count of t in d / number of words in d\n",
    "#Document Frequency\n",
    "#df(t) = occurrence of t in documents\n",
    "#Inverse Document Frequency\n",
    "#idf(t) = N/df\n",
    "\n",
    "\n",
    "# Creating an empty Dataframe with column names only\n",
    "df_tf_idf = pd.DataFrame(columns=['WORD', 'TF_IDF'])\n",
    "\n",
    "\n",
    "N = len(processed_sent_list)\n",
    "tf_idf = {}\n",
    "thisdict = {}\n",
    "for i in range(N):\n",
    "  tokens = processed_sent_list[i]\n",
    "  counter = collections.Counter(tokens)\n",
    "  len(processed_sent_list[i])\n",
    "  for token in np.unique(tokens):\n",
    "    #This measures the frequency of a word in a document\n",
    "    tf = counter[token]/len(processed_sent_list[i])\n",
    "    df = doc_id[token]\n",
    "    #IDF is the inverse of the document frequency which measures the informativeness of term t\n",
    "    idf = np.log(N/(df+1)) #As we cannot divide by 0, we smoothen the value by adding 1 to the denominator\n",
    "    #Finally, by taking a multiplicative value of TF and IDF, we get the TF-IDF score\n",
    "    tf_idf[token] = tf*idf\n",
    "\n",
    "    thisdict.update( {token : tf_idf[token]} )\n",
    "    df_tf_idf =  df_tf_idf.append({'WORD': token, 'TF_IDF': tf_idf[token]}, ignore_index=True)"
   ]
  },
  {
   "cell_type": "code",
   "execution_count": 43,
   "metadata": {},
   "outputs": [
    {
     "data": {
      "text/html": [
       "<div>\n",
       "<style scoped>\n",
       "    .dataframe tbody tr th:only-of-type {\n",
       "        vertical-align: middle;\n",
       "    }\n",
       "\n",
       "    .dataframe tbody tr th {\n",
       "        vertical-align: top;\n",
       "    }\n",
       "\n",
       "    .dataframe thead th {\n",
       "        text-align: right;\n",
       "    }\n",
       "</style>\n",
       "<table border=\"1\" class=\"dataframe\">\n",
       "  <thead>\n",
       "    <tr style=\"text-align: right;\">\n",
       "      <th></th>\n",
       "      <th>WORD</th>\n",
       "      <th>TF_IDF</th>\n",
       "    </tr>\n",
       "  </thead>\n",
       "  <tbody>\n",
       "    <tr>\n",
       "      <th>0</th>\n",
       "      <td>articl</td>\n",
       "      <td>0.125722</td>\n",
       "    </tr>\n",
       "    <tr>\n",
       "      <th>1</th>\n",
       "      <td>english</td>\n",
       "      <td>0.201490</td>\n",
       "    </tr>\n",
       "    <tr>\n",
       "      <th>2</th>\n",
       "      <td>identifi</td>\n",
       "      <td>0.201490</td>\n",
       "    </tr>\n",
       "    <tr>\n",
       "      <th>3</th>\n",
       "      <td>million</td>\n",
       "      <td>0.160944</td>\n",
       "    </tr>\n",
       "    <tr>\n",
       "      <th>4</th>\n",
       "      <td>six</td>\n",
       "      <td>0.201490</td>\n",
       "    </tr>\n",
       "    <tr>\n",
       "      <th>...</th>\n",
       "      <td>...</td>\n",
       "      <td>...</td>\n",
       "    </tr>\n",
       "    <tr>\n",
       "      <th>174</th>\n",
       "      <td>profession</td>\n",
       "      <td>0.111939</td>\n",
       "    </tr>\n",
       "    <tr>\n",
       "      <th>175</th>\n",
       "      <td>regurgit</td>\n",
       "      <td>0.111939</td>\n",
       "    </tr>\n",
       "    <tr>\n",
       "      <th>176</th>\n",
       "      <td>tartari</td>\n",
       "      <td>0.111939</td>\n",
       "    </tr>\n",
       "    <tr>\n",
       "      <th>177</th>\n",
       "      <td>veget</td>\n",
       "      <td>0.111939</td>\n",
       "    </tr>\n",
       "    <tr>\n",
       "      <th>178</th>\n",
       "      <td>work</td>\n",
       "      <td>0.111939</td>\n",
       "    </tr>\n",
       "  </tbody>\n",
       "</table>\n",
       "<p>179 rows × 2 columns</p>\n",
       "</div>"
      ],
      "text/plain": [
       "           WORD    TF_IDF\n",
       "0        articl  0.125722\n",
       "1       english  0.201490\n",
       "2      identifi  0.201490\n",
       "3       million  0.160944\n",
       "4           six  0.201490\n",
       "..          ...       ...\n",
       "174  profession  0.111939\n",
       "175    regurgit  0.111939\n",
       "176     tartari  0.111939\n",
       "177       veget  0.111939\n",
       "178        work  0.111939\n",
       "\n",
       "[179 rows x 2 columns]"
      ]
     },
     "execution_count": 43,
     "metadata": {},
     "output_type": "execute_result"
    }
   ],
   "source": [
    "df_tf_idf"
   ]
  },
  {
   "cell_type": "code",
   "execution_count": 45,
   "metadata": {},
   "outputs": [],
   "source": [
    "# Calculating tf_idf"
   ]
  },
  {
   "cell_type": "code",
   "execution_count": 46,
   "metadata": {},
   "outputs": [],
   "source": [
    "#tf(t,d) = count of t in d / number of words in d"
   ]
  },
  {
   "cell_type": "code",
   "execution_count": 47,
   "metadata": {},
   "outputs": [],
   "source": [
    "#Build a summary based on ratio, sentence or word count , etc"
   ]
  },
  {
   "cell_type": "code",
   "execution_count": 48,
   "metadata": {},
   "outputs": [
    {
     "name": "stdout",
     "output_type": "stream",
     "text": [
      "of the over six million articles in the english wikipedia there are some articles that wikipedians have identified as being somewhat unusual.\n",
      "each entry on this list should be an article on its own (not merely a section in a less unusual article) and of decent quality, and in large meeting wikipedia's manual of style.\n",
      "in this list, a star () indicates a featured article.\n"
     ]
    }
   ],
   "source": [
    "#Summarize based on ratio\n",
    "print(summarize(random_text, ratio=0.10))"
   ]
  },
  {
   "cell_type": "code",
   "execution_count": 49,
   "metadata": {},
   "outputs": [
    {
     "name": "stdout",
     "output_type": "stream",
     "text": [
      "each entry on this list should be an article on its own (not merely a section in a less unusual article) and of decent quality, and in large meeting wikipedia's manual of style.\n"
     ]
    }
   ],
   "source": [
    "#Summarize based on word count\n",
    "print(summarize(random_text, word_count=30))"
   ]
  },
  {
   "cell_type": "code",
   "execution_count": 50,
   "metadata": {},
   "outputs": [],
   "source": [
    "#Summarize the same text data using Gensim with TextRank"
   ]
  },
  {
   "cell_type": "code",
   "execution_count": 52,
   "metadata": {},
   "outputs": [
    {
     "name": "stdout",
     "output_type": "stream",
     "text": [
      "Summary:\n",
      "of the over six million articles in the english wikipedia there are some articles that wikipedians have identified as being somewhat unusual.\n",
      "each entry on this list should be an article on its own (not merely a section in a less unusual article) and of decent quality, and in large meeting wikipedia's manual of style.\n",
      "in this list, a star () indicates a featured article.\n",
      "\n",
      "Keywords:\n",
      "   Gensim_Text_Rank\n",
      "0         wikipedia\n",
      "1           unusual\n",
      "2          articles\n",
      "3           article\n",
      "4              meet\n",
      "5           meeting\n",
      "6             names\n",
      "7             named\n",
      "8               odd\n",
      "9         indicates\n",
      "10         featured\n",
      "11             dali\n",
      "12         salvador\n",
      "13   flat earth map\n",
      "14             tank\n",
      "15          narrows\n",
      "16           statue\n",
      "17             flaw\n",
      "18            train\n",
      "19            hadji\n",
      "20         valuable\n"
     ]
    }
   ],
   "source": [
    "from gensim.summarization import keywords\n",
    "\n",
    "\n",
    "print('Summary:')\n",
    "print(summarize(random_text, ratio=0.10))\n",
    "\n",
    "df_Gensim = pd.DataFrame(columns=[\"Gensim_Text_Rank\"])\n",
    "df_Gensim['Gensim_Text_Rank'] = keywords(random_text, split=True)\n",
    "\n",
    "print('\\nKeywords:')\n",
    "print(df_Gensim)"
   ]
  },
  {
   "cell_type": "code",
   "execution_count": 53,
   "metadata": {},
   "outputs": [],
   "source": [
    "# using the Natural Language Toolkit to process the text information and regular expressions to preprocess the data\n",
    "from nltk.corpus import stopwords\n",
    "from nltk.stem import PorterStemmer\n",
    "from nltk.tokenize import word_tokenize,sent_tokenize\n",
    "from collections import defaultdict\n",
    "\n",
    "import bs4 as BS\n",
    "import urllib.request\n"
   ]
  },
  {
   "cell_type": "code",
   "execution_count": 54,
   "metadata": {},
   "outputs": [
    {
     "name": "stdout",
     "output_type": "stream",
     "text": [
      "of the over six million articles in the english wikipedia there are some articles that wikipedians have identified as being somewhat unusual. these articles are verifiable, valuable contributions to the encyclopedia, but are a bit odd, whimsical, or something one would not expect to find in encyclopædia britannica. we should take special care to meet the highest standards of an encyclopedia with these articles lest they make wikipedia appear idiosyncratic. if you wish to add an article to this list, the article in question should preferably meet one or more of these criteria:\n",
      "this definition is not precise or absolute; some articles could still be considered unusual even if they do not fit these guidelines.\n",
      "each entry on this list should be an article on its own (not merely a section in a less unusual article) and of decent quality, and in large meeting wikipedia's manual of style. for unusual contributions that are of greater levity, see wikipedia:silly things.\n",
      "in this list, a star () indicates a featured article. a plus () indicates a good article.\n",
      "see  nominative determinism for the idea that people gravitate toward careers that fit their names, e.g. urologists named splat and weedon.\n",
      "see also list of internet memes.\n",
      "wikipedia is not afraid to tackle the tough questions:\n",
      "wikipedia:featured pictures contains some unusual images.\n",
      "lawn mower racing\n",
      "train wreck at montparnasse\n",
      "the agassiz statue, stanford university, california. april 1906\n",
      "grenville diptych\n",
      "medieval trepanation\n",
      "polydactyly\n",
      "isometric projection flaw\n",
      "collapse of the tacoma narrows bridge\n",
      "defecating seagull\n",
      "indecency\n",
      "aerial turning house\n",
      "tank treads on an airplane\n",
      "salvador dalí\n",
      "maintenance of mount rushmore\n",
      "one million colors\n",
      "keep your hands to yourself!\n",
      "like a fly on...\n",
      "an elaborate flat earth map drawn in 1893\n",
      "vegetable lamb of tartary\n",
      "carrots of many colors\n",
      "professional regurgitator hadji ali at work\n",
      "\n"
     ]
    }
   ],
   "source": [
    "#parsing the data \n",
    "data_parsed = BS.BeautifulSoup(random_text,'html.parser')\n",
    "\n",
    "print(data_parsed)"
   ]
  },
  {
   "cell_type": "code",
   "execution_count": 56,
   "metadata": {},
   "outputs": [],
   "source": [
    "#Create a dictionary table of weighted frequencies of words\n",
    "\n",
    "def create_freq_dictionary(content):\n",
    "    \n",
    "    #stop words\n",
    "    stop_words = set(stopwords.words('english'))\n",
    "    \n",
    "    words = word_tokenize(content)\n",
    "    \n",
    "    #Instantiate stemmer \n",
    "    # Stemming refers to the removal of any suffixes (and sometimes other affixes) from an input word to produce a stem\n",
    "    \n",
    "    stemmer = PorterStemmer()\n",
    "    \n",
    "    freq_dict = defaultdict(int)\n",
    "    \n",
    "    weighted_freq_dict = dict()\n",
    "    \n",
    "    #Build the dictionary by looping through the words\n",
    "    \n",
    "    for word in words:\n",
    "        \n",
    "        if word in stop_words:\n",
    "            continue\n",
    "        freq_dict[word]+=1\n",
    "        \n",
    "    #Find the maximum value of frequencies to find the weighted values\n",
    "    dict_values = freq_dict.values()\n",
    "    \n",
    "    max_value = max(dict_values)\n",
    "    \n",
    "    for word in freq_dict.keys():\n",
    "        weighted_freq_dict[word] = freq_dict[word]/max_value\n",
    "        \n",
    "    return weighted_freq_dict"
   ]
  },
  {
   "cell_type": "code",
   "execution_count": 57,
   "metadata": {},
   "outputs": [],
   "source": [
    "#Calculate scores for each sentence \n",
    "\n",
    "def get_sentence_scores(sentences,weighted_word_frequency_dict):\n",
    "    \n",
    "    sentence_score = defaultdict(int)\n",
    "    \n",
    "    for sentence in sentences:\n",
    "        sentence_length = 0\n",
    "        \n",
    "        for word in weighted_word_frequency_dict:\n",
    "            if word in sentence.lower():\n",
    "                sentence_length = sentence_length + 1\n",
    "                \n",
    "                sentence_score[sentence[:10]] += weighted_word_frequency_dict[word]\n",
    "        \n",
    "        #Normalize the sentence weight by the length of the sentence\n",
    "        sentence_score[sentence[:10]] = sentence_score[sentence[:10]]/sentence_length\n",
    "    \n",
    "    return sentence_score\n",
    "    "
   ]
  },
  {
   "cell_type": "code",
   "execution_count": 58,
   "metadata": {},
   "outputs": [],
   "source": [
    "#Set the threshold value = Average sentence score\n",
    "\n",
    "def get_average_sentence_score(sentence_score):\n",
    "    \n",
    "    sum_scores = 0 \n",
    "    \n",
    "    for sent , score in sentence_score.items():\n",
    "        sum_scores += score\n",
    "        \n",
    "    average_score = sum_scores/len(sentence_score)\n",
    "    \n",
    "    return average_score"
   ]
  },
  {
   "cell_type": "code",
   "execution_count": 59,
   "metadata": {},
   "outputs": [],
   "source": [
    "#Generate Summary\n",
    "\n",
    "def get_summary_sentences(sentences,sentence_score,threshold):\n",
    "    \n",
    "    num_sentences = 0\n",
    "    \n",
    "    summary = ''\n",
    "    \n",
    "    for sentence in sentences:\n",
    "        if sentence[:10] in sentence_score:\n",
    "            if sentence_score[sentence[:10]] >= threshold:\n",
    "                num_sentences = num_sentences + 1\n",
    "                summary += sentence\n",
    "                \n",
    "    print(\"The number of sentences in the summary : \",num_sentences)\n",
    "    \n",
    "    return summary"
   ]
  },
  {
   "cell_type": "code",
   "execution_count": 60,
   "metadata": {},
   "outputs": [],
   "source": [
    "#Generate the summary by calling the above utility functions\n",
    "def generate_summary(content):\n",
    "    \n",
    "    #Build weighted dictionary of words\n",
    "    weighted_word_frequency_dict = create_freq_dictionary(content)\n",
    "    \n",
    "    #Tokenize content into sentences\n",
    "    \n",
    "    sentences = sent_tokenize(content)\n",
    "    \n",
    "    print(\"The number of sentences in the original article : \" , len(sentences))\n",
    "    \n",
    "    #Compute sentence_scores\n",
    "    \n",
    "    sentence_scores = get_sentence_scores(sentences,weighted_word_frequency_dict)\n",
    "    \n",
    "    #Get the threshold score\n",
    "    \n",
    "    threshold = get_average_sentence_score(sentence_scores)\n",
    "    \n",
    "    #Create the summary\n",
    "    \n",
    "    summary = get_summary_sentences(sentences,sentence_scores,threshold)\n",
    "    \n",
    "    return summary\n",
    "    "
   ]
  },
  {
   "cell_type": "code",
   "execution_count": 62,
   "metadata": {},
   "outputs": [
    {
     "name": "stdout",
     "output_type": "stream",
     "text": [
      "The number of sentences in the original article :  15\n",
      "The number of sentences in the summary :  6\n",
      "Generated Summary : \n",
      "of the over six million articles in the english wikipedia there are some articles that wikipedians have identified as being somewhat unusual.for unusual contributions that are of greater levity, see wikipedia:silly things.in this list, a star () indicates a featured article.a plus () indicates a good article.urologists named splat and weedon.see also list of internet memes.\n"
     ]
    }
   ],
   "source": [
    "#Main function \n",
    "\n",
    "if __name__ == '__main__':\n",
    "    summary = generate_summary(random_text)\n",
    "    \n",
    "    print(\"Generated Summary : \")\n",
    "    \n",
    "    print(summary)"
   ]
  },
  {
   "cell_type": "code",
   "execution_count": null,
   "metadata": {},
   "outputs": [],
   "source": []
  }
 ],
 "metadata": {
  "kernelspec": {
   "display_name": "Python 3",
   "language": "python",
   "name": "python3"
  },
  "language_info": {
   "codemirror_mode": {
    "name": "ipython",
    "version": 3
   },
   "file_extension": ".py",
   "mimetype": "text/x-python",
   "name": "python",
   "nbconvert_exporter": "python",
   "pygments_lexer": "ipython3",
   "version": "3.8.5"
  }
 },
 "nbformat": 4,
 "nbformat_minor": 4
}
